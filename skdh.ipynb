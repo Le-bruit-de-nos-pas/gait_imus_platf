{
 "cells": [
  {
   "cell_type": "code",
   "execution_count": null,
   "id": "32b7ea45",
   "metadata": {},
   "outputs": [],
   "source": [
    "import numpy as np\n",
    "import pandas as pd\n",
    "from plotly import graph_objects as go\n",
    "\n",
    "import matplotlib.pyplot as plt\n",
    "import seaborn as sns\n",
    "\n",
    "from statsmodels.nonparametric.smoothers_lowess import lowess\n",
    "\n",
    "import skdh"
   ]
  },
  {
   "cell_type": "code",
   "execution_count": null,
   "id": "9b0931d6",
   "metadata": {},
   "outputs": [],
   "source": [
    "data = skdh.io.ReadCwa().predict(file=\"example_data.cwa\")"
   ]
  },
  {
   "cell_type": "code",
   "execution_count": null,
   "id": "d38a58c6",
   "metadata": {},
   "outputs": [],
   "source": [
    "data"
   ]
  },
  {
   "cell_type": "code",
   "execution_count": null,
   "id": "291ce41c",
   "metadata": {},
   "outputs": [],
   "source": [
    "accel_mag = np.linalg.norm(data['accel'], axis=1)\n",
    "\n",
    "\n",
    "fig = go.Figure(data=go.Scatter(x=(pd.to_datetime(data['time']) - pd.to_datetime(data['time'])[0]), y=accel_mag))\n",
    "fig.show()"
   ]
  },
  {
   "cell_type": "code",
   "execution_count": null,
   "id": "b158b0dc",
   "metadata": {},
   "outputs": [],
   "source": [
    "# load your data\n",
    "time, accel = data['time'], data['accel']\n",
    "\n",
    "gait = skdh.gait.GaitLumbar()\n",
    "gait_res = gait.predict(time=time, accel=accel, height=1.8)"
   ]
  },
  {
   "cell_type": "code",
   "execution_count": null,
   "id": "499e894d",
   "metadata": {},
   "outputs": [],
   "source": [
    "# load your data\n",
    "time, accel = data['time'], data['accel']\n",
    "\n",
    "# setup a pipeline to first predict gait periods and then estimate gait\n",
    "# metrics during those periods.\n",
    "pipeline = skdh.Pipeline()\n",
    "pipeline.add(skdh.context.PredictGaitLumbarLgbm())\n",
    "pipeline.add(skdh.gait.GaitLumbar())\n",
    "\n",
    "# get the results\n",
    "res = pipeline.run(time=time, accel=accel, height=1.8)\n",
    "# gait results are in res['GaitLumbar']"
   ]
  },
  {
   "cell_type": "code",
   "execution_count": null,
   "id": "ae42d00c",
   "metadata": {},
   "outputs": [],
   "source": [
    "res['GaitLumbar']"
   ]
  },
  {
   "cell_type": "code",
   "execution_count": null,
   "id": "405ff264",
   "metadata": {},
   "outputs": [],
   "source": [
    "pd.DataFrame(res['GaitLumbar']['gait speed'])"
   ]
  },
  {
   "cell_type": "code",
   "execution_count": null,
   "id": "d2e2cd9f",
   "metadata": {},
   "outputs": [],
   "source": [
    "gait_df = pd.DataFrame(res['GaitLumbar'])"
   ]
  },
  {
   "cell_type": "code",
   "execution_count": null,
   "id": "654c506f",
   "metadata": {},
   "outputs": [],
   "source": [
    "gait_df"
   ]
  },
  {
   "cell_type": "code",
   "execution_count": null,
   "id": "9137add6",
   "metadata": {},
   "outputs": [],
   "source": [
    "# gait_df.ffill(inplace=True)"
   ]
  },
  {
   "cell_type": "code",
   "execution_count": null,
   "id": "681da78b",
   "metadata": {},
   "outputs": [],
   "source": [
    "gait_df"
   ]
  },
  {
   "cell_type": "code",
   "execution_count": null,
   "id": "ca3219b0",
   "metadata": {},
   "outputs": [],
   "source": [
    "gait_df.columns\n"
   ]
  },
  {
   "cell_type": "code",
   "execution_count": null,
   "id": "e65f99dd",
   "metadata": {},
   "outputs": [],
   "source": [
    "\n",
    "# Convert 'IC Time' to datetime if not already\n",
    "gait_df['IC Time'] = pd.to_datetime(gait_df['IC Time'])\n",
    "\n",
    "\n",
    "# List of metrics you want to plot\n",
    "metrics = [\n",
    "    'stride time', 'stride time asymmetry', 'stance time',\n",
    "       'stance time asymmetry', 'swing time', 'swing time asymmetry',\n",
    "       'step time', 'step time asymmetry', 'initial double support',\n",
    "       'initial double support asymmetry', 'terminal double support',\n",
    "       'terminal double support asymmetry', 'double support',\n",
    "       'double support asymmetry', 'single support',\n",
    "       'single support asymmetry', 'm2 delta h', 'm2 delta h prime',\n",
    "       'step length', 'step length asymmetry', 'stride length',\n",
    "       'stride length asymmetry', 'gait speed', 'gait speed asymmetry',\n",
    "       'cadence', 'm1 delta h', 'step length m1', 'step length m1 asymmetry',\n",
    "       'stride length m1', 'stride length m1 asymmetry', 'gait speed m1',\n",
    "       'gait speed m1 asymmetry', 'intra-step covariance - V',\n",
    "       'intra-stride covariance - V', 'harmonic ratio - V', 'stride SPARC'\n",
    "]\n",
    "\n",
    "# Filter out rows with NaN values in the selected metrics\n",
    "df_clean = gait_df[['IC Time'] + metrics].dropna().copy()\n"
   ]
  },
  {
   "cell_type": "code",
   "execution_count": null,
   "id": "d9754e1e",
   "metadata": {},
   "outputs": [],
   "source": [
    "# Setup big figure\n",
    "rows, cols = 9, 4\n",
    "fig, axes = plt.subplots(rows, cols, figsize=(24, 48), sharex=True)\n",
    "axes = axes.flatten()\n",
    "\n",
    "# Plot each metric\n",
    "for i, metric in enumerate(metrics):\n",
    "    ax = axes[i]\n",
    "    sns.scatterplot(data=df_clean, x='IC Time', y=metric, ax=ax, s=10)\n",
    "    ax.set_title(metric, fontsize=18)\n",
    "    ax.tick_params(labelsize=12)\n",
    "\n",
    "# Hide any extra axes\n",
    "for j in range(len(metrics), len(axes)):\n",
    "    axes[j].axis('off')\n",
    "\n",
    "plt.tight_layout()\n",
    "plt.show()"
   ]
  },
  {
   "cell_type": "code",
   "execution_count": null,
   "id": "1632ce48",
   "metadata": {},
   "outputs": [],
   "source": [
    "\n",
    "# Group by 'Bout N' and compute the mean (or other stats) for each gait metric\n",
    "#summary = gait_df.groupby('Bout N').mean(numeric_only=True)\n",
    "\n",
    "# You can also get start times for each bout\n",
    "#bout_starts = gait_df.groupby('Bout N')['Bout Starts'].first()\n",
    "\n",
    "#summary['Bout Start Time'] = pd.to_datetime(bout_starts, unit='s')\n",
    "#summary = summary.sort_values('Bout Start Time')\n",
    "\n",
    "#print(summary[['Bout Start Time', 'gait speed', 'step length', 'cadence']].head())"
   ]
  },
  {
   "cell_type": "code",
   "execution_count": null,
   "id": "cd79c700",
   "metadata": {},
   "outputs": [],
   "source": []
  },
  {
   "cell_type": "code",
   "execution_count": null,
   "id": "6cd08349",
   "metadata": {},
   "outputs": [],
   "source": []
  },
  {
   "cell_type": "code",
   "execution_count": null,
   "id": "cc57f67e",
   "metadata": {},
   "outputs": [],
   "source": []
  },
  {
   "cell_type": "code",
   "execution_count": null,
   "id": "2c7d7c49",
   "metadata": {},
   "outputs": [],
   "source": []
  },
  {
   "cell_type": "code",
   "execution_count": null,
   "id": "9bdc7486",
   "metadata": {},
   "outputs": [],
   "source": [
    "#import plotly.express as px\n",
    "#px.line(summary, x=\"Bout Start Time\", y=\"gait speed\", title=\"Gait Speed over Time\")\n",
    "#px.line(summary, x=\"Bout Start Time\", y=\"step length\", title=\"Gait Speed over Time\")\n",
    "#px.line(summary, x=\"Bout Start Time\", y=\"cadence\", title=\"Gait Speed over Time\")"
   ]
  }
 ],
 "metadata": {
  "kernelspec": {
   "display_name": "skdh",
   "language": "python",
   "name": "python3"
  },
  "language_info": {
   "codemirror_mode": {
    "name": "ipython",
    "version": 3
   },
   "file_extension": ".py",
   "mimetype": "text/x-python",
   "name": "python",
   "nbconvert_exporter": "python",
   "pygments_lexer": "ipython3",
   "version": "3.10.6"
  }
 },
 "nbformat": 4,
 "nbformat_minor": 5
}
