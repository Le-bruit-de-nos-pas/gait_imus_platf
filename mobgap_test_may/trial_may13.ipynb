{
 "cells": [
  {
   "cell_type": "code",
   "execution_count": null,
   "id": "8915e368",
   "metadata": {},
   "outputs": [],
   "source": [
    "from mobgap.data import LabExampleDataset\n",
    "example_data = LabExampleDataset()"
   ]
  },
  {
   "cell_type": "code",
   "execution_count": null,
   "id": "3e937a00",
   "metadata": {},
   "outputs": [],
   "source": [
    "single_test = ha_example_data.get_subset(\n",
    "    cohort=\"HA\", participant_id=\"002\", test=\"Test5\", trial=\"Trial2\"\n",
    ")\n",
    "single_test"
   ]
  },
  {
   "cell_type": "code",
   "execution_count": null,
   "id": "0e4a3e9c",
   "metadata": {},
   "outputs": [],
   "source": [
    "imu_data = single_test.data[\"LowerBack\"]\n",
    "imu_data"
   ]
  },
  {
   "cell_type": "code",
   "execution_count": null,
   "id": "428977de",
   "metadata": {},
   "outputs": [],
   "source": [
    "single_sensor_data = single_test.data_ss\n",
    "single_sensor_data"
   ]
  },
  {
   "cell_type": "code",
   "execution_count": null,
   "id": "ce4aae75",
   "metadata": {},
   "outputs": [],
   "source": [
    "import matplotlib.pyplot as plt\n",
    "\n",
    "single_sensor_data.filter(like=\"gyr\").plot()\n",
    "plt.show()"
   ]
  },
  {
   "cell_type": "code",
   "execution_count": null,
   "id": "d3afd360",
   "metadata": {},
   "outputs": [],
   "source": [
    "single_test.recording_metadata"
   ]
  },
  {
   "cell_type": "code",
   "execution_count": null,
   "id": "96e0cd12",
   "metadata": {},
   "outputs": [],
   "source": [
    "single_test.participant_metadata"
   ]
  },
  {
   "cell_type": "code",
   "execution_count": null,
   "id": "2ec48a34",
   "metadata": {},
   "outputs": [],
   "source": [
    "example_data_with_reference = LabExampleDataset(reference_system=\"Stereophoto\")\n",
    "single_trial_with_reference = example_data_with_reference.get_subset(\n",
    "    cohort=\"HA\", participant_id=\"002\", test=\"Test5\", trial=\"Trial2\"\n",
    ")\n",
    "single_trial_with_reference.raw_reference_parameters_"
   ]
  },
  {
   "cell_type": "code",
   "execution_count": null,
   "id": "0aa10e39",
   "metadata": {},
   "outputs": [],
   "source": [
    "ref_paras = single_trial_with_reference.reference_parameters_\n",
    "\n",
    "ref_paras.wb_list"
   ]
  },
  {
   "cell_type": "code",
   "execution_count": null,
   "id": "2721e7fc",
   "metadata": {},
   "outputs": [],
   "source": [
    "ref_paras.ic_list"
   ]
  },
  {
   "cell_type": "code",
   "execution_count": null,
   "id": "4f1f7fe8",
   "metadata": {},
   "outputs": [],
   "source": [
    "ref_paras.stride_parameters"
   ]
  },
  {
   "cell_type": "code",
   "execution_count": null,
   "id": "1968347a",
   "metadata": {},
   "outputs": [],
   "source": [
    "from mobgap.data import (\n",
    "    get_all_lab_example_data_paths,\n",
    "    load_mobilised_matlab_format,\n",
    ")\n",
    "\n",
    "all_example_data_paths = get_all_lab_example_data_paths()\n",
    "list(all_example_data_paths.keys())"
   ]
  },
  {
   "cell_type": "code",
   "execution_count": null,
   "id": "5a1f37c4",
   "metadata": {},
   "outputs": [],
   "source": [
    "example_participant_path = all_example_data_paths[(\"HA\", \"002\")]\n",
    "data = load_mobilised_matlab_format(example_participant_path / \"data.mat\")"
   ]
  },
  {
   "cell_type": "code",
   "execution_count": null,
   "id": "58f9c412",
   "metadata": {},
   "outputs": [],
   "source": [
    "test_list = list(data.keys())\n",
    "test_list"
   ]
  },
  {
   "cell_type": "code",
   "execution_count": null,
   "id": "0c329f2a",
   "metadata": {},
   "outputs": [],
   "source": [
    "test_11_data = data[test_list[2]]\n",
    "imu_data = test_11_data.imu_data[\"LowerBack\"]\n",
    "imu_data"
   ]
  },
  {
   "cell_type": "code",
   "execution_count": null,
   "id": "6e51fa02",
   "metadata": {},
   "outputs": [],
   "source": [
    "data_with_reference = load_mobilised_matlab_format(\n",
    "    example_participant_path / \"data.mat\", reference_system=\"INDIP\"\n",
    ")\n",
    "selected_test = data_with_reference[test_list[2]]"
   ]
  },
  {
   "cell_type": "code",
   "execution_count": null,
   "id": "bfe69ef9",
   "metadata": {},
   "outputs": [],
   "source": [
    "raw_reference_data = selected_test.raw_reference_parameters"
   ]
  },
  {
   "cell_type": "code",
   "execution_count": null,
   "id": "0d597f6b",
   "metadata": {},
   "outputs": [],
   "source": [
    "ref_sampling_rate_hz = selected_test.metadata[\"reference_sampling_rate_hz\"]\n",
    "ref_sampling_rate_hz"
   ]
  },
  {
   "cell_type": "code",
   "execution_count": null,
   "id": "ac4fbf0a",
   "metadata": {},
   "outputs": [],
   "source": [
    "from mobgap.data import parse_reference_parameters\n",
    "\n",
    "data_sampling_rate_hz = selected_test.metadata[\"sampling_rate_hz\"]\n",
    "\n",
    "ref_paras_functional = parse_reference_parameters(\n",
    "    raw_reference_data[\"wb\"],\n",
    "    data_sampling_rate_hz=data_sampling_rate_hz,\n",
    "    ref_sampling_rate_hz=ref_sampling_rate_hz,\n",
    ")"
   ]
  },
  {
   "cell_type": "code",
   "execution_count": null,
   "id": "016adaf1",
   "metadata": {},
   "outputs": [],
   "source": [
    "ref_paras_functional"
   ]
  },
  {
   "cell_type": "code",
   "execution_count": null,
   "id": "30ff98a2",
   "metadata": {},
   "outputs": [],
   "source": [
    "from mobgap.data import LabExampleDataset\n",
    "\n",
    "dataset = LabExampleDataset(reference_system=\"INDIP\")\n",
    "datapoint = dataset.get_subset(\n",
    "    cohort=\"HA\", participant_id=\"001\", test=\"Test11\", trial=\"Trial1\"\n",
    ")\n",
    "data = datapoint.data_ss\n",
    "data"
   ]
  },
  {
   "cell_type": "code",
   "execution_count": null,
   "id": "9c3b43f2",
   "metadata": {},
   "outputs": [],
   "source": [
    "ref_data = datapoint.reference_parameters_\n",
    "ref_data.wb_list"
   ]
  },
  {
   "cell_type": "code",
   "execution_count": null,
   "id": "663866d2",
   "metadata": {},
   "outputs": [],
   "source": [
    "ref_data.ic_list"
   ]
  },
  {
   "cell_type": "code",
   "execution_count": null,
   "id": "5f406e2c",
   "metadata": {},
   "outputs": [],
   "source": [
    "ref_data_rel = datapoint.reference_parameters_relative_to_wb_\n",
    "ref_walking_bouts = ref_data_rel.wb_list\n",
    "ref_walking_bouts"
   ]
  },
  {
   "cell_type": "code",
   "execution_count": null,
   "id": "fa700352",
   "metadata": {},
   "outputs": [],
   "source": [
    "ref_ics_rel = ref_data_rel.ic_list\n",
    "ref_ics_rel.loc[0]  # First WB"
   ]
  },
  {
   "cell_type": "code",
   "execution_count": null,
   "id": "fadc62d9",
   "metadata": {},
   "outputs": [],
   "source": [
    "ref_ics_rel.loc[1]  "
   ]
  },
  {
   "cell_type": "code",
   "execution_count": null,
   "id": "e2fda44e",
   "metadata": {},
   "outputs": [],
   "source": [
    "from mobgap.pipeline import GsIterator\n",
    "\n",
    "gs_iterator = GsIterator()\n",
    "\n",
    "# For most use-cases, the default configuration of the :class:`~mobgap.pipeline.GsIterator` should be sufficient.\n",
    "# This allows you to specify the following results:\n",
    "gs_iterator.data_type"
   ]
  },
  {
   "cell_type": "code",
   "execution_count": null,
   "id": "1b474cf3",
   "metadata": {},
   "outputs": [],
   "source": [
    "for (wb, data_per_wb), result in gs_iterator.iterate(data, ref_walking_bouts):\n",
    "    print(\"GS/WB id: \", wb.id)\n",
    "    print(\n",
    "        \"Expected N-samples in wb: \",\n",
    "        ref_walking_bouts.loc[wb.id].end - ref_walking_bouts.loc[wb.id].start,\n",
    "    )\n",
    "    print(\"N-samples in wb: \", len(data_per_wb))\n",
    "\n",
    "    # We can use the wb.id to get the reference initial contacts that belong to this GS/WB\n",
    "    ics_per_wb = ref_ics_rel.loc[wb.id]\n",
    "    # These could be used in some algorithm.\n",
    "    # Here we will just store them in the results.\n",
    "    result.ic_list = ics_per_wb"
   ]
  },
  {
   "cell_type": "code",
   "execution_count": null,
   "id": "80220cd5",
   "metadata": {},
   "outputs": [],
   "source": [
    "gs_iterator.results_.ic_list"
   ]
  },
  {
   "cell_type": "code",
   "execution_count": null,
   "id": "c930355e",
   "metadata": {},
   "outputs": [],
   "source": [
    "from mobgap.data import MobilisedCvsDmoDataset, get_example_cvs_dmo_data_path\n",
    "\n",
    "example_data_base_path = get_example_cvs_dmo_data_path()\n",
    "dmo_data_path = example_data_base_path / \"cvs-T1-test_data.csv\"\n",
    "mapping_path = example_data_base_path / \"cvs-T1-test_data_mapping.csv\"\n",
    "\n",
    "dataset = MobilisedCvsDmoDataset(\n",
    "    dmo_path=dmo_data_path, site_pid_map_path=mapping_path\n",
    ")\n",
    "dataset"
   ]
  },
  {
   "cell_type": "code",
   "execution_count": null,
   "id": "b9167618",
   "metadata": {},
   "outputs": [],
   "source": [
    "dataset.data"
   ]
  },
  {
   "cell_type": "code",
   "execution_count": null,
   "id": "e8c59532",
   "metadata": {},
   "outputs": [],
   "source": [
    "dataset.data_mask"
   ]
  },
  {
   "cell_type": "code",
   "execution_count": null,
   "id": "d5a60b9c",
   "metadata": {},
   "outputs": [],
   "source": [
    "single_participant = dataset.get_subset(participant_id=\"10004\")\n",
    "single_participant"
   ]
  },
  {
   "cell_type": "code",
   "execution_count": null,
   "id": "09392f5c",
   "metadata": {},
   "outputs": [],
   "source": [
    "print(single_participant.measurement_site)\n",
    "print(single_participant.timezone)"
   ]
  },
  {
   "cell_type": "code",
   "execution_count": null,
   "id": "96545eea",
   "metadata": {},
   "outputs": [],
   "source": [
    "from pathlib import Path\n",
    "\n",
    "from mobgap.utils.misc import get_env_var\n",
    "\n",
    "# dataset_path = Path(get_env_var(\"MOBGAP_TVS_DATASET_PATH\").strip('\"'))\n"
   ]
  },
  {
   "cell_type": "code",
   "execution_count": null,
   "id": "3cde21ec",
   "metadata": {},
   "outputs": [],
   "source": [
    "from typing import Optional, Union\n",
    "from mobgap.data import get_example_csv_data_path\n",
    "import pandas as pd\n",
    "\n",
    "path = get_example_csv_data_path()\n",
    "all_data_files = sorted(list(path.rglob(\"*.csv\")))\n",
    "all_data_files\n",
    "\n",
    "\n",
    "data = pd.read_csv(all_data_files[0])\n",
    "data.head()\n",
    "\n",
    "sampling_rate_hz = 100"
   ]
  },
  {
   "cell_type": "code",
   "execution_count": null,
   "id": "5f901e9e",
   "metadata": {},
   "outputs": [],
   "source": [
    "data"
   ]
  },
  {
   "cell_type": "code",
   "execution_count": null,
   "id": "c8e2b943",
   "metadata": {},
   "outputs": [],
   "source": [
    "from pathlib import Path\n",
    "\n",
    "from mobgap.consts import GRAV_MS2\n",
    "\n",
    "\n",
    "def load_data(path: Path) -> pd.DataFrame:\n",
    "    data = pd.read_csv(path)\n",
    "    data[[\"acc_x\", \"acc_y\", \"acc_z\"]] = (\n",
    "        data[[\"acc_x\", \"acc_y\", \"acc_z\"]] * GRAV_MS2\n",
    "    )\n",
    "    return data\n",
    "\n",
    "\n",
    "data = load_data(all_data_files[0])\n",
    "data.head()"
   ]
  },
  {
   "cell_type": "code",
   "execution_count": null,
   "id": "7738c054",
   "metadata": {},
   "outputs": [],
   "source": [
    "from mobgap.gait_sequences import GsdIluz\n",
    "from mobgap.utils.conversions import to_body_frame\n",
    "\n",
    "gsd = GsdIluz()\n",
    "gsd.detect(data=to_body_frame(data), sampling_rate_hz=sampling_rate_hz)\n",
    "gsd.gs_list_"
   ]
  },
  {
   "cell_type": "code",
   "execution_count": null,
   "id": "7afb6589",
   "metadata": {},
   "outputs": [],
   "source": [
    "import json\n",
    "from pprint import pprint\n",
    "\n",
    "def load_particpant_metadata(path: Path):\n",
    "    with path.open(\"r\") as f:\n",
    "        metadata = json.load(f)\n",
    "    metadata_reformatted = {}\n",
    "    for cohort_name, info in metadata.items():\n",
    "        for participant_id, participant_metadata in info.items():\n",
    "            metadata_reformatted[(cohort_name, participant_id)] = (\n",
    "                participant_metadata\n",
    "            )\n",
    "            metadata_reformatted[(cohort_name, participant_id)][\"cohort\"] = (\n",
    "                cohort_name\n",
    "            )\n",
    "    return metadata_reformatted\n",
    "\n",
    "\n",
    "particpant_metadata = load_particpant_metadata(\n",
    "    path / \"participant_metadata.json\"\n",
    ")\n",
    "pprint(particpant_metadata[(\"HA\", \"001\")])"
   ]
  },
  {
   "cell_type": "code",
   "execution_count": null,
   "id": "1486c273",
   "metadata": {},
   "outputs": [],
   "source": [
    "recording_metadata = {\"measurement_condition\": \"laboratory\"}"
   ]
  },
  {
   "cell_type": "code",
   "execution_count": null,
   "id": "fd703451",
   "metadata": {},
   "outputs": [],
   "source": [
    "particpant_metadata"
   ]
  },
  {
   "cell_type": "code",
   "execution_count": null,
   "id": "807a84d0",
   "metadata": {},
   "outputs": [],
   "source": [
    "from mobgap.data import LabExampleDataset\n",
    "\n",
    "example_data = LabExampleDataset()\n",
    "example_data"
   ]
  },
  {
   "cell_type": "code",
   "execution_count": null,
   "id": "eb4e4a13",
   "metadata": {},
   "outputs": [],
   "source": [
    "single_trial = example_data[4]\n",
    "single_trial"
   ]
  },
  {
   "cell_type": "code",
   "execution_count": null,
   "id": "6a103467",
   "metadata": {},
   "outputs": [],
   "source": [
    "single_trial.participant_metadata"
   ]
  },
  {
   "cell_type": "code",
   "execution_count": null,
   "id": "d0c7bfb4",
   "metadata": {},
   "outputs": [],
   "source": [
    "single_trial.data_ss.head()"
   ]
  },
  {
   "cell_type": "code",
   "execution_count": null,
   "id": "d4ce4391",
   "metadata": {},
   "outputs": [],
   "source": [
    "loaded_data = {}\n",
    "participant_metadata_for_dataset_from_data = {}\n",
    "recording_metadata_for_dataset_from_data = {}\n",
    "\n",
    "for d in all_data_files:\n",
    "    recording_identifier = d.name.split(\".\")[0].split(\"_\")\n",
    "    cohort, participant_id = d.parts[-3:-1]\n",
    "    loaded_data[(cohort, participant_id, *recording_identifier)] = {\n",
    "        \"LowerBack\": load_data(d)\n",
    "    }\n",
    "    participant_metadata_for_dataset_from_data[\n",
    "        (cohort, participant_id, *recording_identifier)\n",
    "    ] = particpant_metadata[(cohort, participant_id)]\n",
    "    recording_metadata_for_dataset_from_data[\n",
    "        (cohort, participant_id, *recording_identifier)\n",
    "    ] = recording_metadata"
   ]
  },
  {
   "cell_type": "code",
   "execution_count": null,
   "id": "1640566f",
   "metadata": {},
   "outputs": [],
   "source": [
    "loaded_data"
   ]
  },
  {
   "cell_type": "code",
   "execution_count": null,
   "id": "59d99f49",
   "metadata": {},
   "outputs": [],
   "source": [
    "from mobgap.data import GaitDatasetFromData\n",
    "\n",
    "dataset_from_data = GaitDatasetFromData(\n",
    "    loaded_data,\n",
    "    sampling_rate_hz,\n",
    "    participant_metadata_for_dataset_from_data,\n",
    "    recording_metadata_for_dataset_from_data,\n",
    ")\n",
    "dataset_from_data"
   ]
  },
  {
   "cell_type": "code",
   "execution_count": null,
   "id": "33b3cd3a",
   "metadata": {},
   "outputs": [],
   "source": [
    "single_trial = dataset_from_data.get_subset(\n",
    "    level_0=\"HA\", level_1=\"002\", level_3=\"Test11\"\n",
    ")[0]"
   ]
  },
  {
   "cell_type": "code",
   "execution_count": null,
   "id": "f741e3e7",
   "metadata": {},
   "outputs": [],
   "source": [
    "dataset_from_data.get_subset(\n",
    "    level_0=\"HA\", level_1=\"001\", level_3=\"Test5\"\n",
    ")"
   ]
  },
  {
   "cell_type": "code",
   "execution_count": null,
   "id": "7983a991",
   "metadata": {},
   "outputs": [],
   "source": [
    "single_trial.data_ss.head()\n"
   ]
  },
  {
   "cell_type": "code",
   "execution_count": null,
   "id": "c5f177b2",
   "metadata": {},
   "outputs": [],
   "source": [
    "from mobgap.pipeline import MobilisedPipelineHealthy\n",
    "\n",
    "pipe = MobilisedPipelineHealthy().run(single_trial)\n",
    "pipe.per_wb_parameters_.drop(columns=\"rule_obj\").T"
   ]
  },
  {
   "cell_type": "code",
   "execution_count": null,
   "id": "412fda26",
   "metadata": {},
   "outputs": [],
   "source": [
    "from mobgap.data.base import BaseGaitDataset\n",
    "\n",
    "\n",
    "class CsvExampleData(BaseGaitDataset):\n",
    "    def __init__(\n",
    "        self,\n",
    "        base_path: Path,\n",
    "        *,\n",
    "        groupby_cols: Optional[Union[list[str], str]] = None,\n",
    "        subset_index: Optional[pd.DataFrame] = None,\n",
    "    ) -> None:\n",
    "        self.base_path = base_path\n",
    "        super().__init__(groupby_cols=groupby_cols, subset_index=subset_index)\n",
    "\n",
    "    def _path_from_index(self) -> Path:\n",
    "        self.assert_is_single(None, \"_path_from_index\")\n",
    "        g = self.group_label\n",
    "        return (\n",
    "            self.base_path\n",
    "            / g.cohort\n",
    "            / g.participant_id\n",
    "            / f\"{g.time_measure}_{g.test}_{g.trial}.csv\"\n",
    "        )\n",
    "\n",
    "    def create_index(self) -> pd.DataFrame:\n",
    "        all_data_files = sorted(list(self.base_path.rglob(\"*.csv\")))\n",
    "        index = []\n",
    "        for d in all_data_files:\n",
    "            recording_identifier = d.name.split(\".\")[0].split(\"_\")\n",
    "            cohort, participant_id = d.parts[-3:-1]\n",
    "            index.append((cohort, participant_id, *recording_identifier))\n",
    "        return pd.DataFrame(\n",
    "            index,\n",
    "            columns=[\n",
    "                \"cohort\",\n",
    "                \"participant_id\",\n",
    "                \"time_measure\",\n",
    "                \"test\",\n",
    "                \"trial\",\n",
    "            ],\n",
    "        )"
   ]
  },
  {
   "cell_type": "code",
   "execution_count": null,
   "id": "7c758ac2",
   "metadata": {},
   "outputs": [],
   "source": [
    "csv_data = CsvExampleData(path)\n",
    "csv_data"
   ]
  },
  {
   "cell_type": "code",
   "execution_count": null,
   "id": "d272a234",
   "metadata": {},
   "outputs": [],
   "source": [
    "path"
   ]
  },
  {
   "cell_type": "code",
   "execution_count": null,
   "id": "97a66b70",
   "metadata": {},
   "outputs": [],
   "source": [
    "from mobgap.data.base import ParticipantMetadata\n",
    "\n",
    "\n",
    "class CsvExampleData(BaseGaitDataset):\n",
    "    # Our constant values:\n",
    "    sampling_rate_hz: float = 100\n",
    "    measurement_condition = \"laboratory\"\n",
    "    recording_metadata = {\"measurement_condition\": \"laboratory\"}\n",
    "\n",
    "    def __init__(\n",
    "        self,\n",
    "        base_path: Path,\n",
    "        *,\n",
    "        groupby_cols: Optional[Union[list[str], str]] = None,\n",
    "        subset_index: Optional[pd.DataFrame] = None,\n",
    "    ) -> None:\n",
    "        self.base_path = base_path\n",
    "        super().__init__(groupby_cols=groupby_cols, subset_index=subset_index)\n",
    "\n",
    "    def _path_from_index(self) -> Path:\n",
    "        self.assert_is_single(None, \"_path_from_index\")\n",
    "        g = self.group_label\n",
    "        return (\n",
    "            self.base_path\n",
    "            / g.cohort\n",
    "            / g.participant_id\n",
    "            / f\"{g.time_measure}_{g.test}_{g.trial}.csv\"\n",
    "        )\n",
    "\n",
    "    def create_index(self) -> pd.DataFrame:\n",
    "        all_data_files = sorted(list(self.base_path.rglob(\"*.csv\")))\n",
    "        index = []\n",
    "        for d in all_data_files:\n",
    "            recording_identifier = d.name.split(\".\")[0].split(\"_\")\n",
    "            cohort, participant_id = d.parts[-3:-1]\n",
    "            index.append((cohort, participant_id, *recording_identifier))\n",
    "        return pd.DataFrame(\n",
    "            index,\n",
    "            columns=[\n",
    "                \"cohort\",\n",
    "                \"participant_id\",\n",
    "                \"time_measure\",\n",
    "                \"test\",\n",
    "                \"trial\",\n",
    "            ],\n",
    "        )\n",
    "\n",
    "    @property\n",
    "    def participant_metadata(self) -> ParticipantMetadata:\n",
    "        self.assert_is_single(None, \"participant_metadata\")\n",
    "        return particpant_metadata[\n",
    "            (self.group_label.cohort, self.group_label.participant_id)\n",
    "        ]\n",
    "\n",
    "    # data loading:\n",
    "    @property\n",
    "    def data(self) -> dict[str, pd.DataFrame]:\n",
    "        # Data loading is only allowed, once we have just a single recording selected.\n",
    "        self.assert_is_single(None, \"data\")\n",
    "        return {\"LowerBack\": load_data(self._path_from_index())}\n",
    "\n",
    "    @property\n",
    "    def data_ss(self) -> pd.DataFrame:\n",
    "        self.assert_is_single(None, \"data_ss\")\n",
    "        return self.data[\"LowerBack\"]"
   ]
  },
  {
   "cell_type": "code",
   "execution_count": null,
   "id": "a7d2531c",
   "metadata": {},
   "outputs": [],
   "source": [
    "csv_data = CsvExampleData(path)\n",
    "csv_data"
   ]
  },
  {
   "cell_type": "code",
   "execution_count": null,
   "id": "fac793ae",
   "metadata": {},
   "outputs": [],
   "source": [
    "single_trial = csv_data.get_subset(\n",
    "    cohort=\"HA\", participant_id=\"001\", test=\"Test5\"\n",
    ")[0]\n",
    "single_trial"
   ]
  },
  {
   "cell_type": "code",
   "execution_count": null,
   "id": "5a38c95c",
   "metadata": {},
   "outputs": [],
   "source": [
    "pipe = MobilisedPipelineHealthy().run(single_trial)\n",
    "pipe.per_wb_parameters_.drop(columns=\"rule_obj\").T"
   ]
  },
  {
   "cell_type": "code",
   "execution_count": null,
   "id": "d4417518",
   "metadata": {},
   "outputs": [],
   "source": [
    "import numpy as np\n",
    "import pandas as pd\n",
    "from mobgap.data import LabExampleDataset\n",
    "\n",
    "lab_example_data = LabExampleDataset(reference_system=\"INDIP\")\n",
    "long_trial = lab_example_data.get_subset(\n",
    "    cohort=\"MS\", participant_id=\"001\", test=\"Test11\", trial=\"Trial1\"\n",
    ")\n",
    "long_trial_gs = long_trial.reference_parameters_.wb_list\n",
    "\n",
    "long_trial_gs"
   ]
  },
  {
   "cell_type": "code",
   "execution_count": null,
   "id": "e427ffca",
   "metadata": {},
   "outputs": [],
   "source": [
    "from mobgap.pipeline import iter_gs\n",
    "\n",
    "for gs, data in iter_gs(long_trial.data_ss, long_trial_gs):\n",
    "    # Note that the key to access the id is called \"wb_id\" here, as we loaded the WB from the reference system.\n",
    "    # If this is an \"actual\" gait sequences, as calculated by one of the GSD algorithms, the key would be \"gs_id\".\n",
    "    print(\"Gait Sequence: \", gs)\n",
    "    print(\"Expected N-samples in gs: \", gs.end - gs.start)\n",
    "    print(\"N-samples in gs: \", len(data))\n",
    "    print(\"First sample of gs:\\n\", data.iloc[0], end=\"\\n\\n\")"
   ]
  },
  {
   "cell_type": "code",
   "execution_count": null,
   "id": "f7960d96",
   "metadata": {},
   "outputs": [],
   "source": [
    "from mobgap.pipeline import GsIterator\n",
    "\n",
    "iterator = GsIterator()\n",
    "dt = iterator.data_type"
   ]
  },
  {
   "cell_type": "code",
   "execution_count": null,
   "id": "35d09d81",
   "metadata": {},
   "outputs": [],
   "source": [
    "import inspect\n",
    "\n",
    "from IPython.core.display_functions import display\n",
    "\n",
    "display(inspect.getsource(dt))"
   ]
  },
  {
   "cell_type": "code",
   "execution_count": null,
   "id": "f5a6c1d0",
   "metadata": {},
   "outputs": [],
   "source": [
    "from mobgap.utils.conversions import as_samples\n",
    "\n",
    "for (gs, data), result in iterator.iterate(long_trial.data_ss, long_trial_gs):\n",
    "    # Now we can just \"calculate\" the initial contacts and set it on the result object.\n",
    "    result.ic_list = pd.DataFrame(\n",
    "        np.arange(0, len(data), 100, dtype=\"int64\"), columns=[\"ic\"]\n",
    "    ).rename_axis(index=\"step_id\")\n",
    "    # For cadence, we just set a dummy value to the wb_id for each 1 second bout of the data.\n",
    "    n_seconds = int(len(data) // long_trial.sampling_rate_hz)\n",
    "    result.cadence_per_sec = pd.DataFrame(\n",
    "        [gs.id] * n_seconds,\n",
    "        columns=[\"cadence_spm\"],\n",
    "        index=as_samples(\n",
    "            np.arange(0, n_seconds) + 0.5, long_trial.sampling_rate_hz\n",
    "        ),\n",
    "    ).rename_axis(index=\"sec_center_samples\")"
   ]
  },
  {
   "cell_type": "code",
   "execution_count": null,
   "id": "febbaee3",
   "metadata": {},
   "outputs": [],
   "source": [
    "iterator.results_.ic_list"
   ]
  },
  {
   "cell_type": "code",
   "execution_count": null,
   "id": "6b1d7088",
   "metadata": {},
   "outputs": [],
   "source": [
    "long_trial.data_ss"
   ]
  },
  {
   "cell_type": "code",
   "execution_count": null,
   "id": "55259b09",
   "metadata": {},
   "outputs": [],
   "source": [
    "iterator.results_.cadence_per_sec"
   ]
  },
  {
   "cell_type": "code",
   "execution_count": null,
   "id": "d8d0646a",
   "metadata": {},
   "outputs": [],
   "source": [
    "from tpcp.misc import TypedIteratorResultTuple\n",
    "\n",
    "display(inspect.getsource(TypedIteratorResultTuple))"
   ]
  },
  {
   "cell_type": "code",
   "execution_count": null,
   "id": "8752369d",
   "metadata": {},
   "outputs": [],
   "source": [
    "def aggregate_n_samples(values: list[GsIterator.IteratorResult[ResultType]]):\n",
    "    non_null_results: list[GsIterator.IteratorResult[int]] = (\n",
    "        GsIterator.filter_iterator_results(values, \"n_samples\")\n",
    "    )\n",
    "    results = {r.input[0].id: r.result for r in non_null_results}\n",
    "    return pd.Series(results, name=\"N-Samples\")\n",
    "\n",
    "\n",
    "aggregations = [(\"n_samples\", aggregate_n_samples)]"
   ]
  },
  {
   "cell_type": "code",
   "execution_count": null,
   "id": "c0bb7ce4",
   "metadata": {},
   "outputs": [],
   "source": [
    "custom_iterator = GsIterator[ResultType](ResultType, aggregations=aggregations)\n"
   ]
  },
  {
   "cell_type": "code",
   "execution_count": null,
   "id": "37a381ea",
   "metadata": {},
   "outputs": [],
   "source": [
    "for (_, data), custom_result in custom_iterator.iterate(\n",
    "    long_trial.data_ss, long_trial_gs\n",
    "):\n",
    "    # We just calculate the length, but you can image any other calculation here.\n",
    "    # Then we just set the result.\n",
    "    custom_result.n_samples = len(data)\n",
    "    # For the \"filtered\" data we just subtract 1 form the input\n",
    "    custom_result.filtered_data = data - 1"
   ]
  },
  {
   "cell_type": "code",
   "execution_count": null,
   "id": "ac737ec2",
   "metadata": {},
   "outputs": [],
   "source": [
    "from typing import cast\n",
    "\n",
    "n_samples = cast(pd.Series, custom_iterator.results_.n_samples)\n",
    "n_samples"
   ]
  },
  {
   "cell_type": "code",
   "execution_count": null,
   "id": "a7c815e6",
   "metadata": {},
   "outputs": [],
   "source": [
    "filtered_data = cast(list[pd.DataFrame], custom_iterator.results_.filtered_data)\n",
    "filtered_data"
   ]
  },
  {
   "cell_type": "code",
   "execution_count": null,
   "id": "da89ebad",
   "metadata": {},
   "outputs": [],
   "source": [
    "import pandas as pd\n",
    "from mobgap.data import LabExampleDataset\n",
    "from mobgap.utils.conversions import to_body_frame\n",
    "from mobgap.utils.interpolation import naive_sec_paras_to_regions\n",
    "\n",
    "lab_example_data = LabExampleDataset(reference_system=\"INDIP\")\n",
    "long_trial = lab_example_data.get_subset(\n",
    "    cohort=\"MS\", participant_id=\"001\", test=\"Test11\", trial=\"Trial1\"\n",
    ")\n",
    "imu_data = to_body_frame(long_trial.data_ss)\n",
    "sampling_rate_hz = long_trial.sampling_rate_hz\n",
    "participant_metadata = long_trial.participant_metadata"
   ]
  },
  {
   "cell_type": "code",
   "execution_count": null,
   "id": "84bf4c63",
   "metadata": {},
   "outputs": [],
   "source": [
    "participant_metadata"
   ]
  },
  {
   "cell_type": "code",
   "execution_count": null,
   "id": "3f806487",
   "metadata": {},
   "outputs": [],
   "source": [
    "imu_data"
   ]
  },
  {
   "cell_type": "code",
   "execution_count": null,
   "id": "8d09d00d",
   "metadata": {},
   "outputs": [],
   "source": [
    "from mobgap.gait_sequences import GsdIluz\n",
    "\n",
    "gsd = GsdIluz()\n",
    "gsd.detect(imu_data, sampling_rate_hz=sampling_rate_hz)\n",
    "\n",
    "gait_sequences = gsd.gs_list_\n",
    "gait_sequences"
   ]
  },
  {
   "cell_type": "code",
   "execution_count": null,
   "id": "9d9bb326",
   "metadata": {},
   "outputs": [],
   "source": [
    "first_gait_sequence = gait_sequences.iloc[0]\n",
    "first_gait_sequence_data = imu_data.iloc[\n",
    "    first_gait_sequence.start : first_gait_sequence.end\n",
    "]"
   ]
  },
  {
   "cell_type": "code",
   "execution_count": null,
   "id": "3fb4aea0",
   "metadata": {},
   "outputs": [],
   "source": [
    "from mobgap.initial_contacts import IcdShinImproved\n",
    "\n",
    "icd = IcdShinImproved()\n",
    "icd.detect(first_gait_sequence_data, sampling_rate_hz=sampling_rate_hz)\n",
    "ic_list = icd.ic_list_\n",
    "ic_list"
   ]
  },
  {
   "cell_type": "code",
   "execution_count": null,
   "id": "39fb84b5",
   "metadata": {},
   "outputs": [],
   "source": [
    "from mobgap.laterality import LrcUllrich\n",
    "\n",
    "lrc = LrcUllrich()\n",
    "lrc.predict(\n",
    "    first_gait_sequence_data, ic_list, sampling_rate_hz=sampling_rate_hz\n",
    ")\n",
    "ic_list = lrc.ic_lr_list_"
   ]
  },
  {
   "cell_type": "code",
   "execution_count": null,
   "id": "f69ea9ba",
   "metadata": {},
   "outputs": [],
   "source": [
    "ic_list"
   ]
  },
  {
   "cell_type": "code",
   "execution_count": null,
   "id": "2a1985bb",
   "metadata": {},
   "outputs": [],
   "source": [
    "from mobgap.initial_contacts import refine_gs\n",
    "\n",
    "refined_gait_sequence, refined_ic_list = refine_gs(ic_list)\n",
    "refined_gait_sequence_data = first_gait_sequence_data.iloc[\n",
    "    refined_gait_sequence.iloc[0].start : refined_gait_sequence.iloc[0].end\n",
    "]"
   ]
  },
  {
   "cell_type": "code",
   "execution_count": null,
   "id": "a4471c2c",
   "metadata": {},
   "outputs": [],
   "source": [
    "from mobgap.cadence import CadFromIc\n",
    "\n",
    "cad = CadFromIc()\n",
    "cad.calculate(\n",
    "    refined_gait_sequence_data,\n",
    "    initial_contacts=refined_ic_list,\n",
    "    sampling_rate_hz=sampling_rate_hz,\n",
    ")\n",
    "\n",
    "cad_per_sec = cad.cadence_per_sec_\n",
    "cad_per_sec"
   ]
  },
  {
   "cell_type": "code",
   "execution_count": null,
   "id": "21078626",
   "metadata": {},
   "outputs": [],
   "source": [
    "from mobgap.stride_length import SlZijlstra\n",
    "\n",
    "sl = SlZijlstra()\n",
    "sl.calculate(\n",
    "    refined_gait_sequence_data,\n",
    "    initial_contacts=refined_ic_list,\n",
    "    sampling_rate_hz=sampling_rate_hz,\n",
    "    **participant_metadata,\n",
    ")\n",
    "\n",
    "sl_per_sec = sl.stride_length_per_sec_\n",
    "sl_per_sec"
   ]
  },
  {
   "cell_type": "code",
   "execution_count": null,
   "id": "5c77c0f9",
   "metadata": {},
   "outputs": [],
   "source": [
    "participant_metadata"
   ]
  },
  {
   "cell_type": "code",
   "execution_count": null,
   "id": "cf48bfe8",
   "metadata": {},
   "outputs": [],
   "source": [
    "from mobgap.walking_speed import WsNaive\n",
    "\n",
    "ws = WsNaive()\n",
    "ws.calculate(\n",
    "    refined_gait_sequence_data,\n",
    "    initial_contacts=refined_ic_list,\n",
    "    cadence_per_sec=cad_per_sec,\n",
    "    stride_length_per_sec=sl_per_sec,\n",
    "    sampling_rate_hz=sampling_rate_hz,\n",
    "    **participant_metadata,\n",
    ")\n",
    "ws_per_sec = ws.walking_speed_per_sec_\n",
    "ws_per_sec"
   ]
  },
  {
   "cell_type": "code",
   "execution_count": null,
   "id": "16ffb0e4",
   "metadata": {},
   "outputs": [],
   "source": [
    "from mobgap.turning import TdElGohary\n",
    "\n",
    "turn = TdElGohary()\n",
    "turn.detect(first_gait_sequence_data, sampling_rate_hz=sampling_rate_hz)\n",
    "turn_list = turn.turn_list_\n",
    "turn_list"
   ]
  },
  {
   "cell_type": "code",
   "execution_count": null,
   "id": "1511229c",
   "metadata": {},
   "outputs": [],
   "source": [
    "from mobgap.cadence import CadFromIc\n",
    "from mobgap.gait_sequences import GsdIluz\n",
    "from mobgap.initial_contacts import IcdShinImproved, refine_gs\n",
    "from mobgap.laterality import LrcUllrich\n",
    "from mobgap.stride_length import SlZijlstra\n",
    "from mobgap.turning import TdElGohary\n",
    "from mobgap.walking_speed import WsNaive\n",
    "\n",
    "gsd = GsdIluz()\n",
    "icd = IcdShinImproved()\n",
    "lrc = LrcUllrich()\n",
    "cad = CadFromIc()\n",
    "sl = SlZijlstra()\n",
    "speed = WsNaive()\n",
    "turn = TdElGohary()"
   ]
  },
  {
   "cell_type": "code",
   "execution_count": null,
   "id": "e8582e13",
   "metadata": {},
   "outputs": [],
   "source": [
    "imu_data"
   ]
  },
  {
   "cell_type": "code",
   "execution_count": null,
   "id": "08c67ec9",
   "metadata": {},
   "outputs": [],
   "source": [
    "gsd.detect(imu_data, sampling_rate_hz=sampling_rate_hz, **participant_metadata)\n",
    "gait_sequences = gsd.gs_list_"
   ]
  },
  {
   "cell_type": "code",
   "execution_count": null,
   "id": "8755dcaa",
   "metadata": {},
   "outputs": [],
   "source": [
    "gait_sequences"
   ]
  },
  {
   "cell_type": "code",
   "execution_count": null,
   "id": "8e4c1782",
   "metadata": {},
   "outputs": [],
   "source": [
    "from mobgap.pipeline import GsIterator\n",
    "\n",
    "gs_iterator = GsIterator()\n",
    "\n",
    "for (_, gs_data), r in gs_iterator.iterate(imu_data, gait_sequences):\n",
    "    icd = icd.clone().detect(\n",
    "        gs_data, sampling_rate_hz=sampling_rate_hz, **participant_metadata\n",
    "    )\n",
    "    lrc = lrc.clone().predict(\n",
    "        gs_data, icd.ic_list_, sampling_rate_hz=sampling_rate_hz\n",
    "    )\n",
    "    r.ic_list = lrc.ic_lr_list_\n",
    "    turn = turn.clone().detect(gs_data, sampling_rate_hz=sampling_rate_hz)\n",
    "    r.turn_list = turn.turn_list_\n",
    "\n",
    "    refined_gs, refined_ic_list = refine_gs(r.ic_list)\n",
    "\n",
    "    with gs_iterator.subregion(refined_gs) as ((_, refined_gs_data), rr):\n",
    "        cad = cad.clone().calculate(\n",
    "            refined_gs_data,\n",
    "            initial_contacts=refined_ic_list,\n",
    "            sampling_rate_hz=sampling_rate_hz,\n",
    "            **participant_metadata,\n",
    "        )\n",
    "        rr.cadence_per_sec = cad.cadence_per_sec_\n",
    "        sl = sl.clone().calculate(\n",
    "            refined_gs_data,\n",
    "            initial_contacts=refined_ic_list,\n",
    "            sampling_rate_hz=sampling_rate_hz,\n",
    "            **participant_metadata,\n",
    "        )\n",
    "        rr.stride_length_per_sec = sl.stride_length_per_sec_\n",
    "        speed = speed.clone().calculate(\n",
    "            refined_gs_data,\n",
    "            initial_contacts=refined_ic_list,\n",
    "            cadence_per_sec=cad.cadence_per_sec_,\n",
    "            stride_length_per_sec=sl.stride_length_per_sec_,\n",
    "            sampling_rate_hz=sampling_rate_hz,\n",
    "            **participant_metadata,\n",
    "        )\n",
    "        rr.walking_speed_per_sec = speed.walking_speed_per_sec_"
   ]
  },
  {
   "cell_type": "code",
   "execution_count": null,
   "id": "9099bd15",
   "metadata": {},
   "outputs": [],
   "source": [
    "results = gs_iterator.results_\n",
    "\n",
    "results.ic_list"
   ]
  },
  {
   "cell_type": "code",
   "execution_count": null,
   "id": "b61d1da2",
   "metadata": {},
   "outputs": [],
   "source": [
    "combined_results = pd.concat(\n",
    "    [\n",
    "        results.cadence_per_sec,\n",
    "        results.stride_length_per_sec,\n",
    "        results.walking_speed_per_sec,\n",
    "    ],\n",
    "    axis=1,\n",
    ").reset_index(\"r_gs_id\", drop=True)\n",
    "combined_results"
   ]
  },
  {
   "cell_type": "code",
   "execution_count": null,
   "id": "d3fd1cc5",
   "metadata": {},
   "outputs": [],
   "source": [
    "from mobgap.laterality import strides_list_from_ic_lr_list\n",
    "\n",
    "stride_list = (\n",
    "    results.ic_list.groupby(\"gs_id\", group_keys=False)\n",
    "    .apply(strides_list_from_ic_lr_list)\n",
    "    .assign(\n",
    "        stride_duration_s=lambda df_: (df_.end - df_.start) / sampling_rate_hz\n",
    "    )\n",
    ")\n",
    "stride_list"
   ]
  },
  {
   "cell_type": "code",
   "execution_count": null,
   "id": "33ed3da0",
   "metadata": {},
   "outputs": [],
   "source": [
    "from mobgap.utils.df_operations import create_multi_groupby\n",
    "\n",
    "stride_list_with_approx_paras = create_multi_groupby(\n",
    "    stride_list,\n",
    "    combined_results,\n",
    "    \"gs_id\",\n",
    "    group_keys=False,\n",
    ").apply(naive_sec_paras_to_regions, sampling_rate_hz=sampling_rate_hz)\n",
    "\n",
    "stride_list_with_approx_paras"
   ]
  },
  {
   "cell_type": "code",
   "execution_count": null,
   "id": "a607b5f7",
   "metadata": {},
   "outputs": [],
   "source": [
    "from mobgap.wba import StrideSelection, WbAssembly\n",
    "\n",
    "flat_index = pd.Index(\n",
    "    [\n",
    "        \"_\".join(str(e) for e in s_id)\n",
    "        for s_id in stride_list_with_approx_paras.index\n",
    "    ],\n",
    "    name=\"s_id\",\n",
    ")\n",
    "stride_list_with_approx_paras = (\n",
    "    stride_list_with_approx_paras.reset_index(\"gs_id\")\n",
    "    .rename(columns={\"gs_id\": \"original_gs_id\"})\n",
    "    .set_index(flat_index)\n",
    ")"
   ]
  },
  {
   "cell_type": "code",
   "execution_count": null,
   "id": "6ff700ee",
   "metadata": {},
   "outputs": [],
   "source": [
    "ss = StrideSelection().filter(\n",
    "    stride_list_with_approx_paras, sampling_rate_hz=sampling_rate_hz\n",
    ")\n",
    "wba = WbAssembly().assemble(\n",
    "    ss.filtered_stride_list_, sampling_rate_hz=sampling_rate_hz\n",
    ")\n",
    "\n",
    "final_strides = wba.annotated_stride_list_\n",
    "final_strides"
   ]
  },
  {
   "cell_type": "code",
   "execution_count": null,
   "id": "1940de0a",
   "metadata": {},
   "outputs": [],
   "source": [
    "per_wb_params = wba.wb_meta_parameters_\n",
    "per_wb_params.drop(columns=\"rule_obj\").T"
   ]
  },
  {
   "cell_type": "code",
   "execution_count": null,
   "id": "18946dd9",
   "metadata": {},
   "outputs": [],
   "source": [
    "params_to_aggregate = [\n",
    "    \"stride_duration_s\",\n",
    "    \"cadence_spm\",\n",
    "    \"stride_length_m\",\n",
    "    \"walking_speed_mps\",\n",
    "]\n",
    "per_wb_params = pd.concat(\n",
    "    [\n",
    "        per_wb_params,\n",
    "        final_strides.reindex(columns=params_to_aggregate)\n",
    "        .groupby([\"wb_id\"])\n",
    "        .mean(),\n",
    "    ],\n",
    "    axis=1,\n",
    ")\n",
    "\n",
    "per_wb_params.drop(columns=\"rule_obj\").T"
   ]
  },
  {
   "cell_type": "code",
   "execution_count": null,
   "id": "2054fa4e",
   "metadata": {},
   "outputs": [],
   "source": [
    "from mobgap.aggregation import apply_thresholds, get_mobilised_dmo_thresholds\n",
    "\n",
    "thresholds = get_mobilised_dmo_thresholds()\n",
    "\n",
    "per_wb_params_mask = apply_thresholds(\n",
    "    per_wb_params,\n",
    "    thresholds,\n",
    "    cohort=long_trial.participant_metadata[\"cohort\"],\n",
    "    height_m=long_trial.participant_metadata[\"height_m\"],\n",
    "    measurement_condition=long_trial.recording_metadata[\n",
    "        \"measurement_condition\"\n",
    "    ],\n",
    ")\n",
    "per_wb_params_mask.T"
   ]
  },
  {
   "cell_type": "code",
   "execution_count": null,
   "id": "926e3592",
   "metadata": {},
   "outputs": [],
   "source": [
    "from mobgap.aggregation import MobilisedAggregator\n",
    "\n",
    "agg = MobilisedAggregator(\n",
    "    **MobilisedAggregator.PredefinedParameters.single_recording\n",
    ")\n",
    "agg_results = agg.aggregate(\n",
    "    per_wb_params, wb_dmos_mask=per_wb_params_mask\n",
    ").aggregated_data_\n",
    "agg_results.T"
   ]
  },
  {
   "cell_type": "code",
   "execution_count": null,
   "id": "0f7f9957",
   "metadata": {},
   "outputs": [],
   "source": [
    "from mobgap.pipeline import GenericMobilisedPipeline\n",
    "\n",
    "pipeline = GenericMobilisedPipeline(\n",
    "    gait_sequence_detection=gsd,\n",
    "    initial_contact_detection=icd,\n",
    "    laterality_classification=lrc,\n",
    "    cadence_calculation=cad,\n",
    "    stride_length_calculation=sl,\n",
    "    turn_detection=turn,\n",
    "    walking_speed_calculation=ws,\n",
    "    stride_selection=ss,\n",
    "    wba=wba,\n",
    "    dmo_thresholds=thresholds,\n",
    "    dmo_aggregation=agg,\n",
    ")\n",
    "\n",
    "pipeline.safe_run(long_trial)"
   ]
  },
  {
   "cell_type": "code",
   "execution_count": null,
   "id": "55d12504",
   "metadata": {},
   "outputs": [],
   "source": [
    "pipeline.raw_per_stride_parameters_"
   ]
  },
  {
   "cell_type": "code",
   "execution_count": null,
   "id": "7d005f6a",
   "metadata": {},
   "outputs": [],
   "source": [
    "pipeline.per_wb_parameters_"
   ]
  },
  {
   "cell_type": "code",
   "execution_count": null,
   "id": "74b8604a",
   "metadata": {},
   "outputs": [],
   "source": [
    "long_trial.data_ss\n"
   ]
  },
  {
   "cell_type": "code",
   "execution_count": null,
   "id": "82283009",
   "metadata": {},
   "outputs": [],
   "source": [
    "from pprint import pprint\n",
    "\n",
    "import numpy as np\n",
    "import pandas as pd\n",
    "from mobgap import PACKAGE_ROOT\n",
    "\n",
    "DATA_PATH = PACKAGE_ROOT.parent / \"example_data/dmo_data/dummy_dmo_data\"\n",
    "\n",
    "detected_dmo = pd.read_csv(DATA_PATH / \"detected_dmo_data.csv\").set_index(\n",
    "    [\"visit_type\", \"participant_id\", \"measurement_date\", \"wb_id\"]\n",
    ")\n",
    "\n",
    "reference_dmo = pd.read_csv(DATA_PATH / \"reference_dmo_data.csv\").set_index(\n",
    "    [\"visit_type\", \"participant_id\", \"measurement_date\", \"wb_id\"]\n",
    ")"
   ]
  },
  {
   "cell_type": "code",
   "execution_count": null,
   "id": "929afc57",
   "metadata": {},
   "outputs": [],
   "source": [
    "PACKAGE_ROOT"
   ]
  },
  {
   "cell_type": "code",
   "execution_count": null,
   "id": "208e23a8",
   "metadata": {},
   "outputs": [],
   "source": []
  },
  {
   "cell_type": "code",
   "execution_count": null,
   "id": "1cbd9f93",
   "metadata": {},
   "outputs": [],
   "source": []
  }
 ],
 "metadata": {
  "kernelspec": {
   "display_name": "myenv_mobgap",
   "language": "python",
   "name": "python3"
  },
  "language_info": {
   "codemirror_mode": {
    "name": "ipython",
    "version": 3
   },
   "file_extension": ".py",
   "mimetype": "text/x-python",
   "name": "python",
   "nbconvert_exporter": "python",
   "pygments_lexer": "ipython3",
   "version": "3.10.6"
  }
 },
 "nbformat": 4,
 "nbformat_minor": 5
}
