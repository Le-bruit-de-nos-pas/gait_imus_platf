{
 "cells": [
  {
   "cell_type": "code",
   "execution_count": null,
   "id": "8915e368",
   "metadata": {},
   "outputs": [],
   "source": [
    "from mobgap.data import LabExampleDataset\n",
    "example_data = LabExampleDataset()"
   ]
  },
  {
   "cell_type": "code",
   "execution_count": null,
   "id": "3e937a00",
   "metadata": {},
   "outputs": [],
   "source": [
    "single_test = ha_example_data.get_subset(\n",
    "    cohort=\"HA\", participant_id=\"002\", test=\"Test5\", trial=\"Trial2\"\n",
    ")\n",
    "single_test"
   ]
  },
  {
   "cell_type": "code",
   "execution_count": null,
   "id": "0e4a3e9c",
   "metadata": {},
   "outputs": [],
   "source": [
    "imu_data = single_test.data[\"LowerBack\"]\n",
    "imu_data"
   ]
  },
  {
   "cell_type": "code",
   "execution_count": null,
   "id": "428977de",
   "metadata": {},
   "outputs": [],
   "source": [
    "single_sensor_data = single_test.data_ss\n",
    "single_sensor_data"
   ]
  },
  {
   "cell_type": "code",
   "execution_count": null,
   "id": "ce4aae75",
   "metadata": {},
   "outputs": [],
   "source": [
    "import matplotlib.pyplot as plt\n",
    "\n",
    "single_sensor_data.filter(like=\"gyr\").plot()\n",
    "plt.show()"
   ]
  },
  {
   "cell_type": "code",
   "execution_count": null,
   "id": "d3afd360",
   "metadata": {},
   "outputs": [],
   "source": [
    "single_test.recording_metadata"
   ]
  },
  {
   "cell_type": "code",
   "execution_count": null,
   "id": "96e0cd12",
   "metadata": {},
   "outputs": [],
   "source": [
    "single_test.participant_metadata"
   ]
  },
  {
   "cell_type": "code",
   "execution_count": null,
   "id": "2ec48a34",
   "metadata": {},
   "outputs": [],
   "source": [
    "example_data_with_reference = LabExampleDataset(reference_system=\"Stereophoto\")\n",
    "single_trial_with_reference = example_data_with_reference.get_subset(\n",
    "    cohort=\"HA\", participant_id=\"002\", test=\"Test5\", trial=\"Trial2\"\n",
    ")\n",
    "single_trial_with_reference.raw_reference_parameters_"
   ]
  },
  {
   "cell_type": "code",
   "execution_count": null,
   "id": "0aa10e39",
   "metadata": {},
   "outputs": [],
   "source": [
    "ref_paras = single_trial_with_reference.reference_parameters_\n",
    "\n",
    "ref_paras.wb_list"
   ]
  },
  {
   "cell_type": "code",
   "execution_count": null,
   "id": "2721e7fc",
   "metadata": {},
   "outputs": [],
   "source": [
    "ref_paras.ic_list"
   ]
  },
  {
   "cell_type": "code",
   "execution_count": null,
   "id": "4f1f7fe8",
   "metadata": {},
   "outputs": [],
   "source": [
    "ref_paras.stride_parameters"
   ]
  },
  {
   "cell_type": "code",
   "execution_count": null,
   "id": "1968347a",
   "metadata": {},
   "outputs": [],
   "source": [
    "from mobgap.data import (\n",
    "    get_all_lab_example_data_paths,\n",
    "    load_mobilised_matlab_format,\n",
    ")\n",
    "\n",
    "all_example_data_paths = get_all_lab_example_data_paths()\n",
    "list(all_example_data_paths.keys())"
   ]
  },
  {
   "cell_type": "code",
   "execution_count": null,
   "id": "5a1f37c4",
   "metadata": {},
   "outputs": [],
   "source": [
    "example_participant_path = all_example_data_paths[(\"HA\", \"002\")]\n",
    "data = load_mobilised_matlab_format(example_participant_path / \"data.mat\")"
   ]
  },
  {
   "cell_type": "code",
   "execution_count": null,
   "id": "58f9c412",
   "metadata": {},
   "outputs": [],
   "source": [
    "test_list = list(data.keys())\n",
    "test_list"
   ]
  },
  {
   "cell_type": "code",
   "execution_count": null,
   "id": "0c329f2a",
   "metadata": {},
   "outputs": [],
   "source": [
    "test_11_data = data[test_list[2]]\n",
    "imu_data = test_11_data.imu_data[\"LowerBack\"]\n",
    "imu_data"
   ]
  },
  {
   "cell_type": "code",
   "execution_count": null,
   "id": "6e51fa02",
   "metadata": {},
   "outputs": [],
   "source": [
    "data_with_reference = load_mobilised_matlab_format(\n",
    "    example_participant_path / \"data.mat\", reference_system=\"INDIP\"\n",
    ")\n",
    "selected_test = data_with_reference[test_list[2]]"
   ]
  },
  {
   "cell_type": "code",
   "execution_count": null,
   "id": "bfe69ef9",
   "metadata": {},
   "outputs": [],
   "source": [
    "raw_reference_data = selected_test.raw_reference_parameters"
   ]
  },
  {
   "cell_type": "code",
   "execution_count": null,
   "id": "0d597f6b",
   "metadata": {},
   "outputs": [],
   "source": [
    "ref_sampling_rate_hz = selected_test.metadata[\"reference_sampling_rate_hz\"]\n",
    "ref_sampling_rate_hz"
   ]
  },
  {
   "cell_type": "code",
   "execution_count": null,
   "id": "ac4fbf0a",
   "metadata": {},
   "outputs": [],
   "source": [
    "from mobgap.data import parse_reference_parameters\n",
    "\n",
    "data_sampling_rate_hz = selected_test.metadata[\"sampling_rate_hz\"]\n",
    "\n",
    "ref_paras_functional = parse_reference_parameters(\n",
    "    raw_reference_data[\"wb\"],\n",
    "    data_sampling_rate_hz=data_sampling_rate_hz,\n",
    "    ref_sampling_rate_hz=ref_sampling_rate_hz,\n",
    ")"
   ]
  },
  {
   "cell_type": "code",
   "execution_count": null,
   "id": "016adaf1",
   "metadata": {},
   "outputs": [],
   "source": [
    "ref_paras_functional"
   ]
  },
  {
   "cell_type": "code",
   "execution_count": null,
   "id": "30ff98a2",
   "metadata": {},
   "outputs": [],
   "source": [
    "from mobgap.data import LabExampleDataset\n",
    "\n",
    "dataset = LabExampleDataset(reference_system=\"INDIP\")\n",
    "datapoint = dataset.get_subset(\n",
    "    cohort=\"HA\", participant_id=\"001\", test=\"Test11\", trial=\"Trial1\"\n",
    ")\n",
    "data = datapoint.data_ss\n",
    "data"
   ]
  },
  {
   "cell_type": "code",
   "execution_count": null,
   "id": "9c3b43f2",
   "metadata": {},
   "outputs": [],
   "source": [
    "ref_data = datapoint.reference_parameters_\n",
    "ref_data.wb_list"
   ]
  },
  {
   "cell_type": "code",
   "execution_count": null,
   "id": "663866d2",
   "metadata": {},
   "outputs": [],
   "source": [
    "ref_data.ic_list"
   ]
  },
  {
   "cell_type": "code",
   "execution_count": null,
   "id": "5f406e2c",
   "metadata": {},
   "outputs": [],
   "source": [
    "ref_data_rel = datapoint.reference_parameters_relative_to_wb_\n",
    "ref_walking_bouts = ref_data_rel.wb_list\n",
    "ref_walking_bouts"
   ]
  },
  {
   "cell_type": "code",
   "execution_count": null,
   "id": "fa700352",
   "metadata": {},
   "outputs": [],
   "source": [
    "ref_ics_rel = ref_data_rel.ic_list\n",
    "ref_ics_rel.loc[0]  # First WB"
   ]
  },
  {
   "cell_type": "code",
   "execution_count": null,
   "id": "fadc62d9",
   "metadata": {},
   "outputs": [],
   "source": [
    "ref_ics_rel.loc[1]  "
   ]
  },
  {
   "cell_type": "code",
   "execution_count": null,
   "id": "e2fda44e",
   "metadata": {},
   "outputs": [],
   "source": [
    "from mobgap.pipeline import GsIterator\n",
    "\n",
    "gs_iterator = GsIterator()\n",
    "\n",
    "# For most use-cases, the default configuration of the :class:`~mobgap.pipeline.GsIterator` should be sufficient.\n",
    "# This allows you to specify the following results:\n",
    "gs_iterator.data_type"
   ]
  },
  {
   "cell_type": "code",
   "execution_count": null,
   "id": "1b474cf3",
   "metadata": {},
   "outputs": [],
   "source": [
    "for (wb, data_per_wb), result in gs_iterator.iterate(data, ref_walking_bouts):\n",
    "    print(\"GS/WB id: \", wb.id)\n",
    "    print(\n",
    "        \"Expected N-samples in wb: \",\n",
    "        ref_walking_bouts.loc[wb.id].end - ref_walking_bouts.loc[wb.id].start,\n",
    "    )\n",
    "    print(\"N-samples in wb: \", len(data_per_wb))\n",
    "\n",
    "    # We can use the wb.id to get the reference initial contacts that belong to this GS/WB\n",
    "    ics_per_wb = ref_ics_rel.loc[wb.id]\n",
    "    # These could be used in some algorithm.\n",
    "    # Here we will just store them in the results.\n",
    "    result.ic_list = ics_per_wb"
   ]
  },
  {
   "cell_type": "code",
   "execution_count": null,
   "id": "80220cd5",
   "metadata": {},
   "outputs": [],
   "source": [
    "gs_iterator.results_.ic_list"
   ]
  },
  {
   "cell_type": "code",
   "execution_count": null,
   "id": "c930355e",
   "metadata": {},
   "outputs": [],
   "source": [
    "from mobgap.data import MobilisedCvsDmoDataset, get_example_cvs_dmo_data_path\n",
    "\n",
    "example_data_base_path = get_example_cvs_dmo_data_path()\n",
    "dmo_data_path = example_data_base_path / \"cvs-T1-test_data.csv\"\n",
    "mapping_path = example_data_base_path / \"cvs-T1-test_data_mapping.csv\"\n",
    "\n",
    "dataset = MobilisedCvsDmoDataset(\n",
    "    dmo_path=dmo_data_path, site_pid_map_path=mapping_path\n",
    ")\n",
    "dataset"
   ]
  },
  {
   "cell_type": "code",
   "execution_count": null,
   "id": "b9167618",
   "metadata": {},
   "outputs": [],
   "source": [
    "dataset.data"
   ]
  },
  {
   "cell_type": "code",
   "execution_count": null,
   "id": "e8c59532",
   "metadata": {},
   "outputs": [],
   "source": [
    "dataset.data_mask"
   ]
  },
  {
   "cell_type": "code",
   "execution_count": null,
   "id": "d5a60b9c",
   "metadata": {},
   "outputs": [],
   "source": [
    "single_participant = dataset.get_subset(participant_id=\"10004\")\n",
    "single_participant"
   ]
  },
  {
   "cell_type": "code",
   "execution_count": null,
   "id": "09392f5c",
   "metadata": {},
   "outputs": [],
   "source": [
    "print(single_participant.measurement_site)\n",
    "print(single_participant.timezone)"
   ]
  },
  {
   "cell_type": "code",
   "execution_count": null,
   "id": "96545eea",
   "metadata": {},
   "outputs": [],
   "source": [
    "from pathlib import Path\n",
    "\n",
    "from mobgap.utils.misc import get_env_var\n",
    "\n",
    "# dataset_path = Path(get_env_var(\"MOBGAP_TVS_DATASET_PATH\").strip('\"'))\n"
   ]
  },
  {
   "cell_type": "code",
   "execution_count": null,
   "id": "3cde21ec",
   "metadata": {},
   "outputs": [],
   "source": [
    "from typing import Optional, Union\n",
    "from mobgap.data import get_example_csv_data_path\n",
    "import pandas as pd\n",
    "\n",
    "path = get_example_csv_data_path()\n",
    "all_data_files = sorted(list(path.rglob(\"*.csv\")))\n",
    "all_data_files\n",
    "\n",
    "\n",
    "data = pd.read_csv(all_data_files[0])\n",
    "data.head()\n",
    "\n",
    "sampling_rate_hz = 100"
   ]
  },
  {
   "cell_type": "code",
   "execution_count": null,
   "id": "5f901e9e",
   "metadata": {},
   "outputs": [],
   "source": [
    "data"
   ]
  },
  {
   "cell_type": "code",
   "execution_count": null,
   "id": "c8e2b943",
   "metadata": {},
   "outputs": [],
   "source": [
    "from pathlib import Path\n",
    "\n",
    "from mobgap.consts import GRAV_MS2\n",
    "\n",
    "\n",
    "def load_data(path: Path) -> pd.DataFrame:\n",
    "    data = pd.read_csv(path)\n",
    "    data[[\"acc_x\", \"acc_y\", \"acc_z\"]] = (\n",
    "        data[[\"acc_x\", \"acc_y\", \"acc_z\"]] * GRAV_MS2\n",
    "    )\n",
    "    return data\n",
    "\n",
    "\n",
    "data = load_data(all_data_files[0])\n",
    "data.head()"
   ]
  },
  {
   "cell_type": "code",
   "execution_count": null,
   "id": "7738c054",
   "metadata": {},
   "outputs": [],
   "source": [
    "from mobgap.gait_sequences import GsdIluz\n",
    "from mobgap.utils.conversions import to_body_frame\n",
    "\n",
    "gsd = GsdIluz()\n",
    "gsd.detect(data=to_body_frame(data), sampling_rate_hz=sampling_rate_hz)\n",
    "gsd.gs_list_"
   ]
  },
  {
   "cell_type": "code",
   "execution_count": null,
   "id": "7afb6589",
   "metadata": {},
   "outputs": [],
   "source": [
    "import json\n",
    "from pprint import pprint\n",
    "\n",
    "def load_particpant_metadata(path: Path):\n",
    "    with path.open(\"r\") as f:\n",
    "        metadata = json.load(f)\n",
    "    metadata_reformatted = {}\n",
    "    for cohort_name, info in metadata.items():\n",
    "        for participant_id, participant_metadata in info.items():\n",
    "            metadata_reformatted[(cohort_name, participant_id)] = (\n",
    "                participant_metadata\n",
    "            )\n",
    "            metadata_reformatted[(cohort_name, participant_id)][\"cohort\"] = (\n",
    "                cohort_name\n",
    "            )\n",
    "    return metadata_reformatted\n",
    "\n",
    "\n",
    "particpant_metadata = load_particpant_metadata(\n",
    "    path / \"participant_metadata.json\"\n",
    ")\n",
    "pprint(particpant_metadata[(\"HA\", \"001\")])"
   ]
  },
  {
   "cell_type": "code",
   "execution_count": null,
   "id": "1486c273",
   "metadata": {},
   "outputs": [],
   "source": [
    "recording_metadata = {\"measurement_condition\": \"laboratory\"}"
   ]
  },
  {
   "cell_type": "code",
   "execution_count": null,
   "id": "fd703451",
   "metadata": {},
   "outputs": [],
   "source": [
    "particpant_metadata"
   ]
  },
  {
   "cell_type": "code",
   "execution_count": null,
   "id": "807a84d0",
   "metadata": {},
   "outputs": [],
   "source": [
    "from mobgap.data import LabExampleDataset\n",
    "\n",
    "example_data = LabExampleDataset()\n",
    "example_data"
   ]
  },
  {
   "cell_type": "code",
   "execution_count": null,
   "id": "eb4e4a13",
   "metadata": {},
   "outputs": [],
   "source": [
    "single_trial = example_data[4]\n",
    "single_trial"
   ]
  },
  {
   "cell_type": "code",
   "execution_count": null,
   "id": "6a103467",
   "metadata": {},
   "outputs": [],
   "source": [
    "single_trial.participant_metadata"
   ]
  },
  {
   "cell_type": "code",
   "execution_count": null,
   "id": "d0c7bfb4",
   "metadata": {},
   "outputs": [],
   "source": [
    "single_trial.data_ss.head()"
   ]
  },
  {
   "cell_type": "code",
   "execution_count": null,
   "id": "d4ce4391",
   "metadata": {},
   "outputs": [],
   "source": [
    "loaded_data = {}\n",
    "participant_metadata_for_dataset_from_data = {}\n",
    "recording_metadata_for_dataset_from_data = {}\n",
    "\n",
    "for d in all_data_files:\n",
    "    recording_identifier = d.name.split(\".\")[0].split(\"_\")\n",
    "    cohort, participant_id = d.parts[-3:-1]\n",
    "    loaded_data[(cohort, participant_id, *recording_identifier)] = {\n",
    "        \"LowerBack\": load_data(d)\n",
    "    }\n",
    "    participant_metadata_for_dataset_from_data[\n",
    "        (cohort, participant_id, *recording_identifier)\n",
    "    ] = particpant_metadata[(cohort, participant_id)]\n",
    "    recording_metadata_for_dataset_from_data[\n",
    "        (cohort, participant_id, *recording_identifier)\n",
    "    ] = recording_metadata"
   ]
  },
  {
   "cell_type": "code",
   "execution_count": null,
   "id": "1640566f",
   "metadata": {},
   "outputs": [],
   "source": [
    "loaded_data"
   ]
  },
  {
   "cell_type": "code",
   "execution_count": null,
   "id": "59d99f49",
   "metadata": {},
   "outputs": [],
   "source": [
    "from mobgap.data import GaitDatasetFromData\n",
    "\n",
    "dataset_from_data = GaitDatasetFromData(\n",
    "    loaded_data,\n",
    "    sampling_rate_hz,\n",
    "    participant_metadata_for_dataset_from_data,\n",
    "    recording_metadata_for_dataset_from_data,\n",
    ")\n",
    "dataset_from_data"
   ]
  },
  {
   "cell_type": "code",
   "execution_count": null,
   "id": "33b3cd3a",
   "metadata": {},
   "outputs": [],
   "source": [
    "single_trial = dataset_from_data.get_subset(\n",
    "    level_0=\"HA\", level_1=\"002\", level_3=\"Test11\"\n",
    ")[0]"
   ]
  },
  {
   "cell_type": "code",
   "execution_count": null,
   "id": "f741e3e7",
   "metadata": {},
   "outputs": [],
   "source": [
    "dataset_from_data.get_subset(\n",
    "    level_0=\"HA\", level_1=\"001\", level_3=\"Test5\"\n",
    ")"
   ]
  },
  {
   "cell_type": "code",
   "execution_count": null,
   "id": "7983a991",
   "metadata": {},
   "outputs": [],
   "source": [
    "single_trial.data_ss.head()\n"
   ]
  },
  {
   "cell_type": "code",
   "execution_count": null,
   "id": "c5f177b2",
   "metadata": {},
   "outputs": [],
   "source": [
    "from mobgap.pipeline import MobilisedPipelineHealthy\n",
    "\n",
    "pipe = MobilisedPipelineHealthy().run(single_trial)\n",
    "pipe.per_wb_parameters_.drop(columns=\"rule_obj\").T"
   ]
  },
  {
   "cell_type": "code",
   "execution_count": null,
   "id": "412fda26",
   "metadata": {},
   "outputs": [],
   "source": [
    "from mobgap.data.base import BaseGaitDataset\n",
    "\n",
    "\n",
    "class CsvExampleData(BaseGaitDataset):\n",
    "    def __init__(\n",
    "        self,\n",
    "        base_path: Path,\n",
    "        *,\n",
    "        groupby_cols: Optional[Union[list[str], str]] = None,\n",
    "        subset_index: Optional[pd.DataFrame] = None,\n",
    "    ) -> None:\n",
    "        self.base_path = base_path\n",
    "        super().__init__(groupby_cols=groupby_cols, subset_index=subset_index)\n",
    "\n",
    "    def _path_from_index(self) -> Path:\n",
    "        self.assert_is_single(None, \"_path_from_index\")\n",
    "        g = self.group_label\n",
    "        return (\n",
    "            self.base_path\n",
    "            / g.cohort\n",
    "            / g.participant_id\n",
    "            / f\"{g.time_measure}_{g.test}_{g.trial}.csv\"\n",
    "        )\n",
    "\n",
    "    def create_index(self) -> pd.DataFrame:\n",
    "        all_data_files = sorted(list(self.base_path.rglob(\"*.csv\")))\n",
    "        index = []\n",
    "        for d in all_data_files:\n",
    "            recording_identifier = d.name.split(\".\")[0].split(\"_\")\n",
    "            cohort, participant_id = d.parts[-3:-1]\n",
    "            index.append((cohort, participant_id, *recording_identifier))\n",
    "        return pd.DataFrame(\n",
    "            index,\n",
    "            columns=[\n",
    "                \"cohort\",\n",
    "                \"participant_id\",\n",
    "                \"time_measure\",\n",
    "                \"test\",\n",
    "                \"trial\",\n",
    "            ],\n",
    "        )"
   ]
  },
  {
   "cell_type": "code",
   "execution_count": null,
   "id": "7c758ac2",
   "metadata": {},
   "outputs": [],
   "source": [
    "csv_data = CsvExampleData(path)\n",
    "csv_data"
   ]
  },
  {
   "cell_type": "code",
   "execution_count": null,
   "id": "d272a234",
   "metadata": {},
   "outputs": [],
   "source": [
    "path"
   ]
  },
  {
   "cell_type": "code",
   "execution_count": null,
   "id": "97a66b70",
   "metadata": {},
   "outputs": [],
   "source": [
    "from mobgap.data.base import ParticipantMetadata\n",
    "\n",
    "\n",
    "class CsvExampleData(BaseGaitDataset):\n",
    "    # Our constant values:\n",
    "    sampling_rate_hz: float = 100\n",
    "    measurement_condition = \"laboratory\"\n",
    "    recording_metadata = {\"measurement_condition\": \"laboratory\"}\n",
    "\n",
    "    def __init__(\n",
    "        self,\n",
    "        base_path: Path,\n",
    "        *,\n",
    "        groupby_cols: Optional[Union[list[str], str]] = None,\n",
    "        subset_index: Optional[pd.DataFrame] = None,\n",
    "    ) -> None:\n",
    "        self.base_path = base_path\n",
    "        super().__init__(groupby_cols=groupby_cols, subset_index=subset_index)\n",
    "\n",
    "    def _path_from_index(self) -> Path:\n",
    "        self.assert_is_single(None, \"_path_from_index\")\n",
    "        g = self.group_label\n",
    "        return (\n",
    "            self.base_path\n",
    "            / g.cohort\n",
    "            / g.participant_id\n",
    "            / f\"{g.time_measure}_{g.test}_{g.trial}.csv\"\n",
    "        )\n",
    "\n",
    "    def create_index(self) -> pd.DataFrame:\n",
    "        all_data_files = sorted(list(self.base_path.rglob(\"*.csv\")))\n",
    "        index = []\n",
    "        for d in all_data_files:\n",
    "            recording_identifier = d.name.split(\".\")[0].split(\"_\")\n",
    "            cohort, participant_id = d.parts[-3:-1]\n",
    "            index.append((cohort, participant_id, *recording_identifier))\n",
    "        return pd.DataFrame(\n",
    "            index,\n",
    "            columns=[\n",
    "                \"cohort\",\n",
    "                \"participant_id\",\n",
    "                \"time_measure\",\n",
    "                \"test\",\n",
    "                \"trial\",\n",
    "            ],\n",
    "        )\n",
    "\n",
    "    @property\n",
    "    def participant_metadata(self) -> ParticipantMetadata:\n",
    "        self.assert_is_single(None, \"participant_metadata\")\n",
    "        return particpant_metadata[\n",
    "            (self.group_label.cohort, self.group_label.participant_id)\n",
    "        ]\n",
    "\n",
    "    # data loading:\n",
    "    @property\n",
    "    def data(self) -> dict[str, pd.DataFrame]:\n",
    "        # Data loading is only allowed, once we have just a single recording selected.\n",
    "        self.assert_is_single(None, \"data\")\n",
    "        return {\"LowerBack\": load_data(self._path_from_index())}\n",
    "\n",
    "    @property\n",
    "    def data_ss(self) -> pd.DataFrame:\n",
    "        self.assert_is_single(None, \"data_ss\")\n",
    "        return self.data[\"LowerBack\"]"
   ]
  },
  {
   "cell_type": "code",
   "execution_count": null,
   "id": "a7d2531c",
   "metadata": {},
   "outputs": [],
   "source": [
    "csv_data = CsvExampleData(path)\n",
    "csv_data"
   ]
  },
  {
   "cell_type": "code",
   "execution_count": null,
   "id": "fac793ae",
   "metadata": {},
   "outputs": [],
   "source": [
    "single_trial = csv_data.get_subset(\n",
    "    cohort=\"HA\", participant_id=\"001\", test=\"Test5\"\n",
    ")[0]\n",
    "single_trial"
   ]
  },
  {
   "cell_type": "code",
   "execution_count": null,
   "id": "5a38c95c",
   "metadata": {},
   "outputs": [],
   "source": [
    "pipe = MobilisedPipelineHealthy().run(single_trial)\n",
    "pipe.per_wb_parameters_.drop(columns=\"rule_obj\").T"
   ]
  },
  {
   "cell_type": "code",
   "execution_count": null,
   "id": "d4417518",
   "metadata": {},
   "outputs": [],
   "source": [
    "import numpy as np\n",
    "import pandas as pd\n",
    "from mobgap.data import LabExampleDataset\n",
    "\n",
    "lab_example_data = LabExampleDataset(reference_system=\"INDIP\")\n",
    "long_trial = lab_example_data.get_subset(\n",
    "    cohort=\"MS\", participant_id=\"001\", test=\"Test11\", trial=\"Trial1\"\n",
    ")\n",
    "long_trial_gs = long_trial.reference_parameters_.wb_list\n",
    "\n",
    "long_trial_gs"
   ]
  },
  {
   "cell_type": "code",
   "execution_count": null,
   "id": "e427ffca",
   "metadata": {},
   "outputs": [],
   "source": [
    "from mobgap.pipeline import iter_gs\n",
    "\n",
    "for gs, data in iter_gs(long_trial.data_ss, long_trial_gs):\n",
    "    # Note that the key to access the id is called \"wb_id\" here, as we loaded the WB from the reference system.\n",
    "    # If this is an \"actual\" gait sequences, as calculated by one of the GSD algorithms, the key would be \"gs_id\".\n",
    "    print(\"Gait Sequence: \", gs)\n",
    "    print(\"Expected N-samples in gs: \", gs.end - gs.start)\n",
    "    print(\"N-samples in gs: \", len(data))\n",
    "    print(\"First sample of gs:\\n\", data.iloc[0], end=\"\\n\\n\")"
   ]
  },
  {
   "cell_type": "code",
   "execution_count": null,
   "id": "f7960d96",
   "metadata": {},
   "outputs": [],
   "source": []
  }
 ],
 "metadata": {
  "kernelspec": {
   "display_name": "myenv_mobgap",
   "language": "python",
   "name": "python3"
  },
  "language_info": {
   "codemirror_mode": {
    "name": "ipython",
    "version": 3
   },
   "file_extension": ".py",
   "mimetype": "text/x-python",
   "name": "python",
   "nbconvert_exporter": "python",
   "pygments_lexer": "ipython3",
   "version": "3.10.6"
  }
 },
 "nbformat": 4,
 "nbformat_minor": 5
}
